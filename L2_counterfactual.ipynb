{
 "cells": [
  {
   "cell_type": "markdown",
   "metadata": {},
   "source": [
    "$$\n",
    "\\newcommand{P}[1]{\\mathrm{P}\\left( #1 \\right)}\n",
    "\\newcommand{Pc}[2]{\\mathrm{P}\\left( #1 \\mid #2 \\right)}\n",
    "\\newcommand{Ec}[2]{\\mathrm{E}\\left( #1 \\mid #2 \\right)}\n",
    "\\newcommand{In}[2]{ #1 \\perp\\!\\!\\!\\perp #2}\n",
    "\\newcommand{Cin}[3]{ #1 \\perp\\!\\!\\!\\perp #2 \\, | \\, #3}\n",
    "\\newcommand{do}[1]{\\mathrm{do}\\left( #1 \\right)}\n",
    "\\newcommand{\\ci}{\\perp\\!\\!\\!\\perp}\n",
    "$$"
   ]
  },
  {
   "cell_type": "markdown",
   "metadata": {},
   "source": [
    "# Counterfactual Models and Causal Effects\n",
    "\n",
    "Day 3 Module 2"
   ]
  },
  {
   "cell_type": "markdown",
   "metadata": {},
   "source": [
    "### Potential Outcome Framework\n",
    "\n",
    "As discussed in the previous secsion, for a study with a binary treatment variable $A \\in \\{0, 1\\}$, we can introduce two new random variables to the system: $Y^{0}$ and $Y^{1}$, under the counterfactual outcome framework. We imagine that these variables exist, and can be treated as any other random variable - the only difference is that they are never directly observed. \n",
    "\n",
    "* This shifts the problem from one about how distributions change under the intervention, to one about data drawn i.i.d. from some underlying distribution with [missing values](https://en.wikipedia.org/wiki/Missing_data). "
   ]
  },
  {
   "cell_type": "markdown",
   "metadata": {},
   "source": [
    "| index $i$ | $X_i$ | $A_i$ | $Y_i$ | $Y_i^0$ | $Y_i^1$ |\n",
    "| --- | --- | --- | --- | --- | --- | \n",
    "| 1 | 0 | 0 | 4 | ? | ? |\n",
    "| 2 | 0 | 0 | 3 | ? | ? |\n",
    "| 3 | 0 | 0 | 5 | ? | ? |\n",
    "| 4 | 0 | 1 | 8 | ? | ? |\n",
    "| 5 | 1 | 0 | 2 | ? | ? |\n",
    "| 6 | 1 | 0 | 4 | ? | ? |\n",
    "| 7 | 1 | 1 | 8 | ? | ? |\n",
    "| 8 | 1 | 1 | 6 | ? | ? |"
   ]
  },
  {
   "cell_type": "markdown",
   "metadata": {},
   "source": [
    "#### Identification Assumptions (for the missing counterfactuals)\n",
    "\n",
    "*  Consistency: $Y_i^a = Y_i$ if $A_i=a$.\n",
    "\n",
    "| index $i$ | $X_i$ | $A_i$ | $Y_i$ | $Y_i^0$ | $Y_i^1$ |\n",
    "| --- | --- | --- | --- | --- | --- | \n",
    "| 1 | 0 | 0 | 4 | <font color='red'>4</font> | ? |\n",
    "| 2 | 0 | 0 | 3 | <font color='red'>7</font> | ? |\n",
    "| 3 | 0 | 0 | 5 | <font color='red'>2</font> | ? |\n",
    "| 4 | 0 | 1 | 8 | ? | <font color='red'>8</font> |\n",
    "| 5 | 1 | 0 | 2 | <font color='red'>2</font> | ? |\n",
    "| 6 | 1 | 0 | 4 | <font color='red'>4</font> | ? |\n",
    "| 7 | 1 | 1 | 8 | ? | <font color='red'>8</font> |\n",
    "| 8 | 1 | 1 | 6 | ? | <font color='red'>6</font> |\n",
    "\n",
    "*  Positivity: $0 < \\Pc {A_i=1} {X_{1,i},X_{2,i},\\cdots,X_{p,i}} < 1$, for all values of $X_{1,i},X_{2,i}, \\cdots, X_{p,i}$ that occur in the study population.\n",
    "    - In the example, $\\Pc{A_i=1}{X_i=0}=0.25$ and $\\Pc{A_i=1}{X_i=1}=0.5$, both arms exist on each level of $X$.\n",
    "\n",
    "*  Conditional Exchangeability (No Unmeasured Confounding Assumption, NUCA): $\\{Y_i^0, Y_i^1\\} \\ci A_i \\vert \\{X_{1,i},X_{2,i}, \\cdots, X_{p,i}\\}$\n",
    "    - $P(A_i, Y_i^{0}, Y_i^{1}| X_i) = P(A_i|X_i)P(Y_i^{0}, Y_i^{1}|X_i)$ or $E[Y_i^{1}|A_i=1, X_i] = E[Y_i^{1}| X_i] = E[Y_i^{1}|A_i=1, X_i]$, at given level of $X_i$, we may use information from one treatment arm to impute for the other arm.\n",
    "    - If we want to estimate the ATE using observational data, we need to use other information we have about the samples - specifically we need to **assume** that we have enough additional information to completely explain the choice of treatment each subject.\n",
    "    - This means that the observed treatment a sample receives, $A$, is completely explained by $X$. This is sometimes called the [\"ignorability\" assumption](https://en.wikipedia.org/wiki/Ignorability)."
   ]
  },
  {
   "cell_type": "markdown",
   "metadata": {},
   "source": [
    "\n",
    "# Data Example: Causal Effect\n",
    "\n",
    "Often we do not care about the full distribution of the counterfactuals, and it is of more interest to estimate the [Average Treatment Effect (ATE)](https://en.wikipedia.org/wiki/Average_treatment_effect):\n",
    "\n",
    "$\\theta = E[Y^{1} - Y^{0}]$\n",
    "\n",
    "If we just try and estimate this quantity from the observational distribution, we get (the association):\n",
    "\n",
    "$\\alpha = E[Y|X=1] - E[Y|X=0]$\n",
    "\n",
    "If we model $Y$ against $A$, we get $\\alpha$, if we model $Y^a$ we get $\\theta$ (you may have missing data in this model)\n",
    "\n",
    "* When randomization occurs, $\\theta = \\alpha$\n",
    "* In observational studies, the two quantities are not equal in general.\n",
    "\n",
    "**This can be illustrated from the following data example:**\n",
    "\n",
    "Suppose we are interested in studying the effect of smoking on lung function. We collect information from $n=500$ subjects and record whether or not the person is a current and/or former smoker ($A=1$ for smoker, $A=0$ for non-smoker) at the begining of the study, and their lung function score $Y$ (can be considered as a continuous measure) at the end of study, and we also record a confounding variable $X$ (e.g. age or measure of certain biomarker), which affects both the smoking status and the lung function."
   ]
  },
  {
   "cell_type": "code",
   "execution_count": 1,
   "metadata": {},
   "outputs": [],
   "source": [
    "from __future__ import division\n",
    "from sklearn.preprocessing import PolynomialFeatures\n",
    "\n",
    "import numpy as np\n",
    "np.warnings.filterwarnings('ignore')\n",
    "import pandas as pd\n",
    "import matplotlib.pyplot as plt\n",
    "import seaborn as sns\n",
    "\n",
    "sns.set_style(\"whitegrid\")\n",
    "sns.set_palette(\"colorblind\")\n",
    "\n",
    "%matplotlib inline"
   ]
  },
  {
   "cell_type": "markdown",
   "metadata": {},
   "source": [
    "We can use the following code to generate a hypothetical dataset from such a study.\n",
    "\n",
    "In the simulation, for subject $i$ ($i=1,\\cdots,500$), we generate \n",
    "\n",
    "* the confounder $X_i \\sim N(0,1)$;\n",
    "* binary treatment indicator $A$ from $\\text{logit}[\\Pc{A_i=1}{X_i}]=1 + 2 X_i$;\n",
    "* the (true) counterfactuals: \n",
    "    - $Y^0_i = 2 X_i + \\epsilon_i$\n",
    "    - $Y^1_i = 0.5 + 2 X_i + \\epsilon_i$\n",
    "    - where $\\epsilon_i \\sim N(0,0.3^2)$\n",
    "* the observed outcome $Y_i = Y^1_i \\times A_i + Y^0_i \\times (1 - A_i)$"
   ]
  },
  {
   "cell_type": "code",
   "execution_count": 2,
   "metadata": {},
   "outputs": [
    {
     "data": {
      "text/html": [
       "<div>\n",
       "<style scoped>\n",
       "    .dataframe tbody tr th:only-of-type {\n",
       "        vertical-align: middle;\n",
       "    }\n",
       "\n",
       "    .dataframe tbody tr th {\n",
       "        vertical-align: top;\n",
       "    }\n",
       "\n",
       "    .dataframe thead th {\n",
       "        text-align: right;\n",
       "    }\n",
       "</style>\n",
       "<table border=\"1\" class=\"dataframe\">\n",
       "  <thead>\n",
       "    <tr style=\"text-align: right;\">\n",
       "      <th></th>\n",
       "      <th>A</th>\n",
       "      <th>X</th>\n",
       "      <th>Y</th>\n",
       "      <th>Y0</th>\n",
       "      <th>Y1</th>\n",
       "    </tr>\n",
       "  </thead>\n",
       "  <tbody>\n",
       "    <tr>\n",
       "      <th>0</th>\n",
       "      <td>1</td>\n",
       "      <td>-0.852792</td>\n",
       "      <td>-0.733534</td>\n",
       "      <td>-1.233534</td>\n",
       "      <td>-0.733534</td>\n",
       "    </tr>\n",
       "    <tr>\n",
       "      <th>1</th>\n",
       "      <td>1</td>\n",
       "      <td>0.509614</td>\n",
       "      <td>1.495843</td>\n",
       "      <td>0.995843</td>\n",
       "      <td>1.495843</td>\n",
       "    </tr>\n",
       "    <tr>\n",
       "      <th>2</th>\n",
       "      <td>0</td>\n",
       "      <td>-0.372404</td>\n",
       "      <td>-0.632358</td>\n",
       "      <td>-0.632358</td>\n",
       "      <td>-0.132358</td>\n",
       "    </tr>\n",
       "    <tr>\n",
       "      <th>3</th>\n",
       "      <td>1</td>\n",
       "      <td>0.352165</td>\n",
       "      <td>1.102453</td>\n",
       "      <td>0.602453</td>\n",
       "      <td>1.102453</td>\n",
       "    </tr>\n",
       "    <tr>\n",
       "      <th>4</th>\n",
       "      <td>0</td>\n",
       "      <td>-0.844309</td>\n",
       "      <td>-1.681160</td>\n",
       "      <td>-1.681160</td>\n",
       "      <td>-1.181160</td>\n",
       "    </tr>\n",
       "  </tbody>\n",
       "</table>\n",
       "</div>"
      ],
      "text/plain": [
       "   A         X         Y        Y0        Y1\n",
       "0  1 -0.852792 -0.733534 -1.233534 -0.733534\n",
       "1  1  0.509614  1.495843  0.995843  1.495843\n",
       "2  0 -0.372404 -0.632358 -0.632358 -0.132358\n",
       "3  1  0.352165  1.102453  0.602453  1.102453\n",
       "4  0 -0.844309 -1.681160 -1.681160 -1.181160"
      ]
     },
     "execution_count": 2,
     "metadata": {},
     "output_type": "execute_result"
    }
   ],
   "source": [
    "\"\"\"\n",
    "Data Example 1: smoking\n",
    "  \n",
    "\"\"\"\n",
    "n_samples = 500\n",
    "X = np.random.normal(size=n_samples)\n",
    "p_a = np.exp(1 + 2 * X)/(1 + np.exp(1 + 2 * X))\n",
    "A = np.random.binomial(n=1, p=p_a, size=n_samples)\n",
    "eY = 0.3 * np.random.normal(size=n_samples)\n",
    "Y0 = 2 * X + eY\n",
    "Y1 = Y0 + 0.5\n",
    "Y = np.where(A == 0, Y0, Y1)\n",
    "\n",
    "example_smk = pd.DataFrame({\"X\":X, \"A\":A, \"Y\":Y, \"Y0\":Y0, \"Y1\":Y1})\n",
    "example_smk.head()"
   ]
  },
  {
   "cell_type": "markdown",
   "metadata": {},
   "source": [
    "Can we conclude that smoking led to worse lung function outcome? We may estimate, $\\alpha$, the different in mean of the two treatment groups:"
   ]
  },
  {
   "cell_type": "code",
   "execution_count": 3,
   "metadata": {},
   "outputs": [
    {
     "name": "stdout",
     "output_type": "stream",
     "text": [
      "estimated_effect: 2.754 ; standard_error: 0.278\n"
     ]
    }
   ],
   "source": [
    "\"\"\"\n",
    "Estimate the difference in means between two groups.\n",
    "  \n",
    "\"\"\"\n",
    "ctrl_grp = example_smk[example_smk.A == 0]\n",
    "trt_grp = example_smk[example_smk.A == 1]\n",
    " \n",
    "alpha = trt_grp.Y.mean() - ctrl_grp.Y.mean()\n",
    "alpha_err = 1.96 * np.sqrt(\n",
    "        trt_grp.Y.var() / trt_grp.shape[0] + \n",
    "        ctrl_grp.Y.var() / ctrl_grp.shape[0])\n",
    "  \n",
    "print(\"estimated_effect: {:.3f}\".format(alpha), \"; standard_error: {:.3f}\".format(alpha_err))"
   ]
  },
  {
   "cell_type": "markdown",
   "metadata": {},
   "source": [
    "Yet, the link we are seeing, is a correlation, but it does not neccessarily provide us the causal link. For this simulated dataset, we actually know both counterfactuals, so we can calculate ATE $\\theta$ as"
   ]
  },
  {
   "cell_type": "code",
   "execution_count": 4,
   "metadata": {},
   "outputs": [
    {
     "name": "stdout",
     "output_type": "stream",
     "text": [
      "true ATE: 0.500\n"
     ]
    }
   ],
   "source": [
    "\"\"\"\n",
    "Estimate the causal treatment effect.\n",
    "  \n",
    "\"\"\"\n",
    "theta = example_smk.Y1.mean() - example_smk.Y0.mean()\n",
    "print(\"true ATE: {:.3f}\".format(theta))"
   ]
  },
  {
   "cell_type": "markdown",
   "metadata": {},
   "source": [
    "Thus, we can see generally $\\theta \\neq \\alpha$\n",
    "\n",
    "As mentioned earlier, two related quantities for causal treatment effect that we can also consider are:\n",
    "\n",
    "* The average causal affect in the treated (ATT): $\\text{ATT} = E[Y_i^1 − Y_i^0\\,\\vert\\, A_i=1]$\n",
    "\n",
    "* The average causal affect in the untreated (ATU, or ATC as 'in controls'): $\\text{ATU} = E[Y_i^1 − Y_i^0\\,\\vert\\, A_i=0]$\n",
    "\n",
    "One way to interpret ATU is as a measure of the effect of treating only samples which wouldn't naturally be treated, and vice versa for ATT. Depending on the goal of your study, they may be more natural measures of what you care about."
   ]
  },
  {
   "cell_type": "markdown",
   "metadata": {},
   "source": [
    "## The counterfactual model\n",
    "\n",
    "However, in observational studies, we will not observe the counterfactuals as in this simulation example, counterfactual models provide tools to estimate the counterfactuals, as well as the causal quantities that related to them. For example, we can build estimators: \n",
    " \n",
    " - $\\hat{Y}^{0}(X) = E[Y|X, A=0]$\n",
    " - $\\hat{Y}^{1}(X) = E[Y|X, A=1]$. \n",
    " \n",
    "If we can model these two quantities, we can estimate the ATE as:\n",
    "\n",
    "$\\hat\\theta = \\frac{1}{N}\\sum_{i=1}^N [\\hat{Y}^{1}(x_{i}) - \\hat{Y}^{0}(x_{i})]$\n",
    "\n",
    "The success of this approach depends on how well we can model the potential outcomes.\n",
    "\n",
    "Counterfactual models:\n",
    "\n",
    "* Postulates a joint distribution over outcomes in experimental and observational settings\n",
    "\n",
    "* Typically, experimental outcomes are ‘primary’, of which observational outcomes are deterministic functions\n",
    "\n",
    "* Rich language allowing many quantities of interest to be formulated, e.g. ETT, NDE\n",
    "\n",
    "* ‘Reduces’ Causation to Missing Data; all outcomes ‘observable’ a priori\n",
    "    Allows precise characterization of identification assumptions as conditional independence"
   ]
  },
  {
   "cell_type": "markdown",
   "metadata": {},
   "source": [
    "### Modeling the Counterfactual\n",
    "\n",
    "Here we will discuss some of the causal inference tools for modeling the counterfactuals:\n",
    "\n",
    "* regression based method\n",
    "\n",
    "* matching based method\n",
    "\n",
    "* weighting based method\n",
    "\n",
    "Next, we will discuss each method and see them in action in our data example:"
   ]
  },
  {
   "cell_type": "markdown",
   "metadata": {},
   "source": [
    "#### Regression based method\n",
    "\n",
    "If we are able to build a good regression model for the counterfactual outcomes (based on the observational data):\n",
    "* $\\hat{Y}^{0}(X) = f_0(X)$\n",
    "* $\\hat{Y}^{1}(X) = f_1(X)$\n",
    "\n",
    "then we can impute using these models, for example\n",
    "\n",
    "| index $i$ | $X_i$ | $A_i$ | $Y_i$ | $Y_i^0$ (regression) | $Y_i^1$ (regression) |\n",
    "| --- | --- | --- | --- | --- | --- | \n",
    "| 1 | 0 | 0 | 4 | <font color='red'>4</font> | <font color='green'>$f_1(0)$</font> |\n",
    "| 2 | 0 | 0 | 3 | <font color='red'>7</font> | <font color='green'>$f_1(0)$</font> |\n",
    "| 3 | 0 | 0 | 5 | <font color='red'>2</font> | <font color='green'>$f_1(0)$</font> |\n",
    "| 4 | 0 | 1 | 8 | <font color='green'>$f_0(0)$</font> | <font color='red'>8</font> |\n",
    "| 5 | 1 | 0 | 2 | <font color='red'>2</font> | <font color='green'>$f_1(1)$</font> |\n",
    "| 6 | 1 | 0 | 4 | <font color='red'>4</font> | <font color='green'>$f_1(1)$</font> |\n",
    "| 7 | 1 | 1 | 8 | <font color='green'>$f_0(1)$</font> | <font color='red'>8</font> |\n",
    "| 8 | 1 | 1 | 6 | <font color='green'>$f_0(1)$</font> | <font color='red'>6</font> |\n"
   ]
  },
  {
   "cell_type": "markdown",
   "metadata": {},
   "source": [
    "For our data example, we can first look at the data. First, scatter plot on the observed relationship of $X$ and $Y$"
   ]
  },
  {
   "cell_type": "code",
   "execution_count": 8,
   "metadata": {},
   "outputs": [
    {
     "data": {
      "image/png": "[encoded data removed]",
      "text/plain": [
       "<matplotlib.figure.Figure at 0x1cf3a45ac18>"
      ]
     },
     "metadata": {},
     "output_type": "display_data"
    }
   ],
   "source": [
    "example_smk.plot.scatter(x=\"X\", y=\"Y\", c=\"A\", cmap=\"rainbow\", colorbar=False);"
   ]
  },
  {
   "cell_type": "markdown",
   "metadata": {},
   "source": [
    "Next, we can look at how $Y$ is distributed between the two exposure groups:"
   ]
  },
  {
   "cell_type": "code",
   "execution_count": 9,
   "metadata": {
    "scrolled": true
   },
   "outputs": [
    {
     "data": {
      "text/plain": [
       "<matplotlib.axes._subplots.AxesSubplot at 0x1cf3a829358>"
      ]
     },
     "execution_count": 9,
     "metadata": {},
     "output_type": "execute_result"
    },
    {
     "data": {
      "image/png": "[encoded data removed]",
      "text/plain": [
       "<matplotlib.figure.Figure at 0x1cf3a8187f0>"
      ]
     },
     "metadata": {},
     "output_type": "display_data"
    }
   ],
   "source": [
    "sns.kdeplot(example_smk.loc[lambda df: df.A == 0].Y, label=\"non-smoker\")\n",
    "sns.kdeplot(example_smk.loc[lambda df: df.A == 1].Y, label=\"smoker\")"
   ]
  },
  {
   "cell_type": "markdown",
   "metadata": {},
   "source": [
    "If we look at the distribution of the independent variable, $X$, it is clear that there is also differences between the two groups. "
   ]
  },
  {
   "cell_type": "code",
   "execution_count": 10,
   "metadata": {},
   "outputs": [
    {
     "data": {
      "text/plain": [
       "<matplotlib.axes._subplots.AxesSubplot at 0x1cf3a770278>"
      ]
     },
     "execution_count": 10,
     "metadata": {},
     "output_type": "execute_result"
    },
    {
     "data": {
      "image/png": "[encoded data removed]",
      "text/plain": [
       "<matplotlib.figure.Figure at 0x1cf3a45a8d0>"
      ]
     },
     "metadata": {},
     "output_type": "display_data"
    }
   ],
   "source": [
    "sns.kdeplot(example_smk.loc[lambda df: df.A == 0].X, label=\"non-smoker\")\n",
    "sns.kdeplot(example_smk.loc[lambda df: df.A == 1].X, label=\"smoker\")"
   ]
  },
  {
   "cell_type": "markdown",
   "metadata": {},
   "source": [
    "We need some way to disentangle the effect of $A$ on $Y$ and the effect of $X$ on $Y$.\n",
    "\n",
    "The simplest type of model we can use is a linear model. Specifically we could assume \n",
    "\n",
    "$Y^{0}_i = \\beta_{0} + \\beta_{1} X + \\epsilon_i$\n",
    "\n",
    "$Y^{1}_i = Y^{0}_i + \\theta$\n",
    "\n",
    "If these models are correctly specified, we can fit the following model to the observational data\n",
    "\n",
    "$Y_i = \\beta_0 + \\beta_1 X_i + \\theta A_i + \\epsilon_i$\n",
    "\n",
    "gives us an estimate of the ATE.\n",
    "\n",
    "The [`causalinference`](https://pypi.org/project/CausalInference/) package gives us a simple interface to do this:"
   ]
  },
  {
   "cell_type": "code",
   "execution_count": 11,
   "metadata": {},
   "outputs": [
    {
     "name": "stdout",
     "output_type": "stream",
     "text": [
      "\n",
      "Treatment Effect Estimates: OLS\n",
      "\n",
      "                     Est.       S.e.          z      P>|z|      [95% Conf. int.]\n",
      "--------------------------------------------------------------------------------\n",
      "           ATE      0.484      0.033     14.866      0.000      0.420      0.547\n",
      "\n"
     ]
    }
   ],
   "source": [
    "from causalinference import CausalModel\n",
    "\n",
    "cm = CausalModel(\n",
    "    Y=example_smk.Y.values, \n",
    "    D=example_smk.A.values, \n",
    "    X=example_smk.X.values)\n",
    "\n",
    "cm.est_via_ols(adj=1)\n",
    "print(cm.estimates)"
   ]
  },
  {
   "cell_type": "markdown",
   "metadata": {},
   "source": [
    "The regression based method yields a good estimate of ATE, which suggested that this is a good way to go.\n",
    "\n",
    "##### Does regression based method always work? Hint: what assumptions you have here? \n",
    "\n",
    "* Are the common assumptions we need for estimating the missing counterfactuals enough?\n",
    "* Wait... What are those common assumptions?"
   ]
  },
  {
   "cell_type": "markdown",
   "metadata": {},
   "source": [
    "### The role of correct model specification\n",
    "\n",
    "The regression based method works only when \"you have a good model\". For example, for a subject who was actually assigned to the treatment arm:\n",
    "\n",
    "* What is missing and need to be imputed?\n",
    "\n",
    "* What you suggested the missing part be $\\hat{Y}^{0}(X) = f_0(X)$\n",
    "\n",
    "* Is it good? "
   ]
  },
  {
   "cell_type": "code",
   "execution_count": 12,
   "metadata": {},
   "outputs": [
    {
     "data": {
      "text/html": [
       "<div>\n",
       "<style scoped>\n",
       "    .dataframe tbody tr th:only-of-type {\n",
       "        vertical-align: middle;\n",
       "    }\n",
       "\n",
       "    .dataframe tbody tr th {\n",
       "        vertical-align: top;\n",
       "    }\n",
       "\n",
       "    .dataframe thead th {\n",
       "        text-align: right;\n",
       "    }\n",
       "</style>\n",
       "<table border=\"1\" class=\"dataframe\">\n",
       "  <thead>\n",
       "    <tr style=\"text-align: right;\">\n",
       "      <th></th>\n",
       "      <th>A</th>\n",
       "      <th>X</th>\n",
       "      <th>Y</th>\n",
       "      <th>Y0</th>\n",
       "      <th>Y1</th>\n",
       "    </tr>\n",
       "  </thead>\n",
       "  <tbody>\n",
       "    <tr>\n",
       "      <th>0</th>\n",
       "      <td>1</td>\n",
       "      <td>-0.980555</td>\n",
       "      <td>2.416946</td>\n",
       "      <td>1.916946</td>\n",
       "      <td>2.416946</td>\n",
       "    </tr>\n",
       "    <tr>\n",
       "      <th>1</th>\n",
       "      <td>0</td>\n",
       "      <td>0.523839</td>\n",
       "      <td>0.039191</td>\n",
       "      <td>0.039191</td>\n",
       "      <td>0.539191</td>\n",
       "    </tr>\n",
       "    <tr>\n",
       "      <th>2</th>\n",
       "      <td>0</td>\n",
       "      <td>0.143830</td>\n",
       "      <td>-0.392514</td>\n",
       "      <td>-0.392514</td>\n",
       "      <td>0.107486</td>\n",
       "    </tr>\n",
       "    <tr>\n",
       "      <th>3</th>\n",
       "      <td>1</td>\n",
       "      <td>0.256707</td>\n",
       "      <td>0.511234</td>\n",
       "      <td>0.011234</td>\n",
       "      <td>0.511234</td>\n",
       "    </tr>\n",
       "    <tr>\n",
       "      <th>4</th>\n",
       "      <td>0</td>\n",
       "      <td>-1.683440</td>\n",
       "      <td>5.894063</td>\n",
       "      <td>5.894063</td>\n",
       "      <td>6.394063</td>\n",
       "    </tr>\n",
       "  </tbody>\n",
       "</table>\n",
       "</div>"
      ],
      "text/plain": [
       "   A         X         Y        Y0        Y1\n",
       "0  1 -0.980555  2.416946  1.916946  2.416946\n",
       "1  0  0.523839  0.039191  0.039191  0.539191\n",
       "2  0  0.143830 -0.392514 -0.392514  0.107486\n",
       "3  1  0.256707  0.511234  0.011234  0.511234\n",
       "4  0 -1.683440  5.894063  5.894063  6.394063"
      ]
     },
     "execution_count": 12,
     "metadata": {},
     "output_type": "execute_result"
    }
   ],
   "source": [
    "\"\"\"\n",
    "modified version of smoking example\n",
    "  \n",
    "\"\"\"\n",
    "n_samples = 500\n",
    "X = np.random.normal(size=n_samples)\n",
    "p_a = np.exp(1 + 2 * X)/(1 + np.exp(1 + 2 * X))\n",
    "A = np.random.binomial(n=1, p=p_a, size=n_samples)\n",
    "eY = 0.3 * np.random.normal(size=n_samples)\n",
    "Y0 = 2 * X * X + eY\n",
    "Y1 = Y0 + 0.5\n",
    "Y = np.where(A == 0, Y0, Y1)\n",
    "\n",
    "eg_smk2 = pd.DataFrame({\"X\":X, \"A\":A, \"Y\":Y, \"Y0\":Y0, \"Y1\":Y1})\n",
    "eg_smk2.head()"
   ]
  },
  {
   "cell_type": "code",
   "execution_count": 13,
   "metadata": {},
   "outputs": [
    {
     "name": "stdout",
     "output_type": "stream",
     "text": [
      "\n",
      "Treatment Effect Estimates: OLS\n",
      "\n",
      "                     Est.       S.e.          z      P>|z|      [95% Conf. int.]\n",
      "--------------------------------------------------------------------------------\n",
      "           ATE     -0.358      0.318     -1.128      0.259     -0.981      0.264\n",
      "\n"
     ]
    }
   ],
   "source": [
    "cm = CausalModel(\n",
    "    Y=eg_smk2.Y.values, \n",
    "    D=eg_smk2.A.values, \n",
    "    X=eg_smk2.X.values)\n",
    "\n",
    "cm.est_via_ols(adj=1)\n",
    "print(cm.estimates)"
   ]
  },
  {
   "cell_type": "markdown",
   "metadata": {},
   "source": [
    "Seems like it is far away from the truth, the treatment if harmful! \n",
    "\n",
    "However, the reality is that you would never know which is the true model, because [\"all models are wrong but some are useful\"](https://en.wikipedia.org/wiki/All_models_are_wrong). \n",
    "\n",
    "Next, we will discuss some alternative approaches that can work free of this \"unrealistic\" assumption."
   ]
  },
  {
   "cell_type": "code",
   "execution_count": null,
   "metadata": {},
   "outputs": [],
   "source": []
  }
 ],
 "metadata": {
  "kernelspec": {
   "display_name": "Python 3",
   "language": "python",
   "name": "python3"
  },
  "language_info": {
   "codemirror_mode": {
    "name": "ipython",
    "version": 3
   },
   "file_extension": ".py",
   "mimetype": "text/x-python",
   "name": "python",
   "nbconvert_exporter": "python",
   "pygments_lexer": "ipython3",
   "version": "3.6.4"
  },
  "toc": {
   "base_numbering": 1,
   "nav_menu": {},
   "number_sections": true,
   "sideBar": true,
   "skip_h1_title": false,
   "title_cell": "Table of Contents",
   "title_sidebar": "Contents",
   "toc_cell": false,
   "toc_position": {},
   "toc_section_display": true,
   "toc_window_display": false
  }
 },
 "nbformat": 4,
 "nbformat_minor": 2
}
